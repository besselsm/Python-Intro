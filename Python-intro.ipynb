{
 "cells": [
  {
   "cell_type": "code",
   "execution_count": 6,
   "metadata": {},
   "outputs": [
    {
     "name": "stdout",
     "output_type": "stream",
     "text": [
      "Wat is uw leeftijd? 34\n",
      "Ben u alleen- of samenwonend? samenwonend\n",
      "Hoe hoog is uw huur? 350\n",
      "Hoe hoog is uw inkomen? 21000\n",
      "Hoe groot is uw vermogen? 20000\n",
      "Gefeliciteerd u komt in aanmerking voor huurtoeslag\n"
     ]
    }
   ],
   "source": [
    "leeftijd = int(input('Wat is uw leeftijd? '))\n",
    "woonsituatie = input('Ben u alleen- of samenwonend? ')\n",
    "huurbedrag = int(input('Hoe hoog is uw huur? '))\n",
    "inkomen = int(input('Hoe hoog is uw inkomen? '))\n",
    "vermogen = int(input('Hoe groot is uw vermogen? '))\n",
    "\n",
    "if leeftijd < 23 and 231 <= huurbedrag <= 409:\n",
    "    if woonsituatie == 'alleenwonend' and inkomen < 22000 and vermogen < 21000:\n",
    "        print('Gefeliciteerd u komt in aanmerking voor huurtoeslag')\n",
    "    elif woonsituatie == 'samenwonend' and inkomen < 30000 and vermogen < 42000:\n",
    "        print('Gefeliciteerd u komt in aanmerking voor huurtoeslag')\n",
    "    else:\n",
    "        print('Helaas komt u niet in aanmerking voor huurtoeslag')\n",
    "if leeftijd > 23 and 231 <= huurbedrag <= 710:\n",
    "    if woonsituatie == 'alleenwonend' and inkomen < 22000 and vermogen < 21000:\n",
    "        print('Gefeliciteerd u komt in aanmerking voor huurtoeslag')\n",
    "    elif woonsituatie == 'samenwonend' and inkomen < 30000 and vermogen < 42000:\n",
    "        print('Gefeliciteerd u komt in aanmerking voor huurtoeslag')\n",
    "    else:\n",
    "        print('Helaas komt u niet in aanmerking voor huurtoeslag')\n",
    "else:\n",
    "    print('Helaas komt u niet in aanmerking voor huurtoeslag')"
   ]
  },
  {
   "cell_type": "markdown",
   "metadata": {},
   "source": [
    "als leeftijd < 23 & huurbedrag tussen 231 - 409\n",
    "alleenwonend max inkomen = 22.000 max vermogen 21.000\n",
    "samenwonend max inkomen = 30.000 max vermogen 42.000\n",
    "\n",
    "#testdata:\n",
    "Wat is uw leeftijd? 39\n",
    "Ben u alleen- of samenwonend? alleenwonend\n",
    "Hoe hoog is uw huur? 520\n",
    "Hoe hoog is uw inkomen? 21000\n",
    "Hoe groot is uw vermogen? 20000\n",
    "Gefeliciteerd u komt in aanmerking voor huurtoeslag"
   ]
  },
  {
   "cell_type": "code",
   "execution_count": 11,
   "metadata": {},
   "outputs": [
    {
     "name": "stdout",
     "output_type": "stream",
     "text": [
      "Wat is uw leeftijd? 39\n",
      "Ben u alleen- of samenwonend? alleenwonend\n",
      "Hoe hoog is uw huur? 520\n",
      "Hoe hoog is uw inkomen? 21000\n",
      "Hoe groot is uw vermogen? 20000\n",
      "Gefeliciteerd u komt in aanmerking voor huurtoeslag\n"
     ]
    }
   ],
   "source": [
    "leeftijd = int(input('Wat is uw leeftijd? '))\n",
    "woonsituatie = input('Ben u alleen- of samenwonend? ')\n",
    "huurbedrag = int(input('Hoe hoog is uw huur? '))\n",
    "inkomen = int(input('Hoe hoog is uw inkomen? '))\n",
    "vermogen = int(input('Hoe groot is uw vermogen? '))\n",
    "\n",
    "if woonsituatie == 'alleenwonend' and inkomen < 22000 and vermogen < 21000:\n",
    "    if (leeftijd < 23 and 231 <= huurbedrag <= 409) or (leeftijd > 23 and 231 <= huurbedrag <= 710):\n",
    "        print('Gefeliciteerd u komt in aanmerking voor huurtoeslag')\n",
    "    else:\n",
    "        print('Helaas komt u niet in aanmerking voor huurtoeslag')\n",
    "elif woonsituatie == 'samenwonend' and inkomen < 30000 and vermogen < 42000:\n",
    "    if (leeftijd < 23 and 231 <= huurbedrag <= 409) or (leeftijd > 23 and 231 <= huurbedrag <= 710):\n",
    "        print('Gefeliciteerd u komt in aanmerking voor huurtoeslag')\n",
    "    else:\n",
    "        print('Helaas komt u niet in aanmerking voor huurtoeslag')\n",
    "else:\n",
    "    print('Helaas komt u niet in aanmerking voor huurtoeslag - final')\n"
   ]
  },
  {
   "cell_type": "markdown",
   "metadata": {},
   "source": []
  },
  {
   "cell_type": "code",
   "execution_count": null,
   "metadata": {},
   "outputs": [],
   "source": [
    "alist = [1,2,3,3,3,6,7]\n",
    "blist = [2,5,8,9]\n",
    "\n"
   ]
  }
 ],
 "metadata": {
  "kernelspec": {
   "display_name": "Python 3",
   "language": "python",
   "name": "python3"
  },
  "language_info": {
   "codemirror_mode": {
    "name": "ipython",
    "version": 3
   },
   "file_extension": ".py",
   "mimetype": "text/x-python",
   "name": "python",
   "nbconvert_exporter": "python",
   "pygments_lexer": "ipython3",
   "version": "3.7.0"
  }
 },
 "nbformat": 4,
 "nbformat_minor": 2
}
